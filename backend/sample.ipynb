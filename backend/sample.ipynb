{
 "metadata": {
  "language_info": {
   "codemirror_mode": {
    "name": "ipython",
    "version": 3
   },
   "file_extension": ".py",
   "mimetype": "text/x-python",
   "name": "python",
   "nbconvert_exporter": "python",
   "pygments_lexer": "ipython3",
   "version": "3.8.0-final"
  },
  "orig_nbformat": 2,
  "kernelspec": {
   "name": "python3",
   "display_name": "Python 3.8.0 64-bit",
   "metadata": {
    "interpreter": {
     "hash": "fe405c15fb71b6769e0f8348e4280c1dee5fd8294db0963eae3d48e7822cf665"
    }
   }
  }
 },
 "nbformat": 4,
 "nbformat_minor": 2,
 "cells": [
  {
   "cell_type": "code",
   "execution_count": 1,
   "metadata": {},
   "outputs": [],
   "source": [
    "import os\n",
    "import sys\n",
    "import random\n",
    "import numpy as np\n",
    "import pandas as pd\n",
    "from dotenv import load_dotenv\n",
    "load_dotenv(\".env\")\n",
    "from src.domain import Track, User, Setlist\n",
    "from src.driver import SampleDriverImpl\n",
    "from src.repository import SampleRepository\n",
    "from src.solver import QuboSolver\n",
    "from IPython.display import Image, HTML"
   ]
  },
  {
   "source": [
    "## 汎用関数の定義"
   ],
   "cell_type": "markdown",
   "metadata": {}
  },
  {
   "cell_type": "code",
   "execution_count": 2,
   "metadata": {},
   "outputs": [],
   "source": [
    "def millsec_to_str(millSeconds: int, hour: bool = False):\n",
    "    m, s = divmod(millSeconds / 1000, 60)\n",
    "    h, m = divmod(m, 60)\n",
    "    if hour:\n",
    "        str_duration = \"%d:%02d:%02d\" % (h, m, s)\n",
    "    else:\n",
    "        str_duration = \"%02d:%02d\" % (m, s)\n",
    "    return str_duration\n",
    "\n",
    "def url_to_img(src: str):\n",
    "    return f'<img src=\"{src}\" />'\n",
    "\n",
    "def display_setlist(setlist: Setlist):\n",
    "    time_df = pd.DataFrame([[millsec_to_str(setlist.total_time, hour=True)]], columns=[\"合計\"], index=[\"時間\"])\n",
    "     \n",
    "    preference_df = pd.DataFrame(\n",
    "       [setlist.scores + [setlist.score_sum, setlist.score_avg, setlist.score_var]],\n",
    "        columns=[[f\"ユーザー{i+1}\" for i in range(len(setlist.scores))] + ['合計', '平均', '分散']],\n",
    "        index=['好み']\n",
    "    )\n",
    "    \n",
    "    tracks_df = pd.json_normalize(map(\n",
    "        lambda t: dict(\n",
    "            {\"image\": t.small_image, \"アーティスト\": t.artist, \"曲名\": t.name, \"時間\": millsec_to_str(t.duration_ms)},\n",
    "            **{ f\"ユーザー{i+1}\": \"⭐\" * v for i, v in enumerate(t.p) }),\n",
    "        setlist.tracks\n",
    "    ))\n",
    "\n",
    "    display(time_df)\n",
    "    display(preference_df)\n",
    "    display(HTML(tracks_df.to_html(escape=False, formatters=dict(image=url_to_img))))"
   ]
  },
  {
   "source": [
    "## 楽曲のサンプルデータを準備（事前に用意した200曲）"
   ],
   "cell_type": "markdown",
   "metadata": {}
  },
  {
   "cell_type": "code",
   "execution_count": 3,
   "metadata": {},
   "outputs": [],
   "source": [
    "sample_driver = SampleDriverImpl()\n",
    "sample_repository = SampleRepository(driver=sample_driver)\n",
    "sample_tracks = sample_repository.get_tracks(\"sample\")"
   ]
  },
  {
   "cell_type": "code",
   "execution_count": 4,
   "metadata": {},
   "outputs": [
    {
     "output_type": "display_data",
     "data": {
      "text/plain": "               ID      アーティスト                          曲名 時間[ms]\n0    JPB600057201       浜崎あゆみ                           M  04:26\n1    JPB601900504     DA PUMP                           桜  03:26\n2    JPB601902111     DA PUMP  P.A.R.T.Y. 〜ユニバース・フェスティバル〜  03:32\n3    JPB602002630        平井 大  Stand by me, Stand by you.  03:13\n4    JPB602051826   マカロニえんぴつ                       恋人ごっこ  03:20\n..            ...         ...                         ...    ...\n195  TCJPI1811812       川崎 鷹也                       魔法の絨毯  03:32\n196  TCJPI1992829          瑛人                          香水  04:15\n197  TCJPK2087568        yama                       春を告げる  03:16\n198  TCJPL2098599  Tani Yuuki                        Myra  04:15\n199  TCJPN2029465  BLOOM VASE              Bluma to Lunch  02:39\n\n[200 rows x 4 columns]",
      "text/html": "<div>\n<style scoped>\n    .dataframe tbody tr th:only-of-type {\n        vertical-align: middle;\n    }\n\n    .dataframe tbody tr th {\n        vertical-align: top;\n    }\n\n    .dataframe thead th {\n        text-align: right;\n    }\n</style>\n<table border=\"1\" class=\"dataframe\">\n  <thead>\n    <tr style=\"text-align: right;\">\n      <th></th>\n      <th>ID</th>\n      <th>アーティスト</th>\n      <th>曲名</th>\n      <th>時間[ms]</th>\n    </tr>\n  </thead>\n  <tbody>\n    <tr>\n      <th>0</th>\n      <td>JPB600057201</td>\n      <td>浜崎あゆみ</td>\n      <td>M</td>\n      <td>04:26</td>\n    </tr>\n    <tr>\n      <th>1</th>\n      <td>JPB601900504</td>\n      <td>DA PUMP</td>\n      <td>桜</td>\n      <td>03:26</td>\n    </tr>\n    <tr>\n      <th>2</th>\n      <td>JPB601902111</td>\n      <td>DA PUMP</td>\n      <td>P.A.R.T.Y. 〜ユニバース・フェスティバル〜</td>\n      <td>03:32</td>\n    </tr>\n    <tr>\n      <th>3</th>\n      <td>JPB602002630</td>\n      <td>平井 大</td>\n      <td>Stand by me, Stand by you.</td>\n      <td>03:13</td>\n    </tr>\n    <tr>\n      <th>4</th>\n      <td>JPB602051826</td>\n      <td>マカロニえんぴつ</td>\n      <td>恋人ごっこ</td>\n      <td>03:20</td>\n    </tr>\n    <tr>\n      <th>...</th>\n      <td>...</td>\n      <td>...</td>\n      <td>...</td>\n      <td>...</td>\n    </tr>\n    <tr>\n      <th>195</th>\n      <td>TCJPI1811812</td>\n      <td>川崎 鷹也</td>\n      <td>魔法の絨毯</td>\n      <td>03:32</td>\n    </tr>\n    <tr>\n      <th>196</th>\n      <td>TCJPI1992829</td>\n      <td>瑛人</td>\n      <td>香水</td>\n      <td>04:15</td>\n    </tr>\n    <tr>\n      <th>197</th>\n      <td>TCJPK2087568</td>\n      <td>yama</td>\n      <td>春を告げる</td>\n      <td>03:16</td>\n    </tr>\n    <tr>\n      <th>198</th>\n      <td>TCJPL2098599</td>\n      <td>Tani Yuuki</td>\n      <td>Myra</td>\n      <td>04:15</td>\n    </tr>\n    <tr>\n      <th>199</th>\n      <td>TCJPN2029465</td>\n      <td>BLOOM VASE</td>\n      <td>Bluma to Lunch</td>\n      <td>02:39</td>\n    </tr>\n  </tbody>\n</table>\n<p>200 rows × 4 columns</p>\n</div>"
     },
     "metadata": {}
    }
   ],
   "source": [
    "sample_tracks_df = pd.json_normalize(map(\n",
    "    lambda t: {\"ID\": t.id, \"アーティスト\": t.artist, \"曲名\": t.name, \"時間[ms]\": millsec_to_str(t.duration_ms)},\n",
    "    sample_tracks\n",
    "))\n",
    "display(sample_tracks_df)"
   ]
  },
  {
   "source": [
    "## 参加者の好みを設定したデータセットを用意"
   ],
   "cell_type": "markdown",
   "metadata": {}
  },
  {
   "cell_type": "code",
   "execution_count": 5,
   "metadata": {},
   "outputs": [],
   "source": [
    "M = 5       # 参加者数\n",
    "n = 100     # 各参加者のプレイリストの曲数\n",
    "T = 1800    # 設定時間[秒]\n",
    "users =[]   # 参加者リスト\n",
    "\n",
    "for idx in range(M):\n",
    "    tracks = random.sample(sample_tracks, n)  # ランダムにn個の曲を選択\n",
    "    tracks = [Track(id=t.id, name=t.name, artist=t.artist, small_image=t.small_image, duration_ms=t.duration_ms, priority=random.randint(1, 3)) for t in random.sample(sample_tracks, n)]\n",
    "    users.append(User(id=f\"user{idx+1}\", tracks=tracks))"
   ]
  },
  {
   "cell_type": "code",
   "execution_count": 6,
   "metadata": {},
   "outputs": [],
   "source": [
    "qubo_solver = QuboSolver(users=users, time_limit=T)"
   ]
  },
  {
   "cell_type": "code",
   "execution_count": 7,
   "metadata": {},
   "outputs": [
    {
     "output_type": "display_data",
     "data": {
      "text/plain": "               ID       アーティスト                   曲名     時間 ユーザー1 ユーザー2 ユーザー3  \\\n0    JPTF00809111  Mr.Children                 花の匂い  05:10   ⭐⭐⭐               \n1    JPTF09205801  Mr.Children                虹の彼方へ  03:35     ⭐           ⭐   \n2    JPTF09809702  Mr.Children                Prism  04:40   ⭐⭐⭐               \n3    JPU901803007     King Gnu  Prayer X (Acoustic)  01:29    ⭐⭐   ⭐⭐⭐         \n4    JPTF09501701  Mr.Children    【es】~Theme of es~  05:49     ⭐     ⭐     ⭐   \n..            ...          ...                  ...    ...   ...   ...   ...   \n189  JPU901702278     King Gnu          サマーレイン・ダイバー  04:17                     \n190  JPU901702271     King Gnu    Tokyo Rendez-Vous  04:01                     \n191  JPU901702276     King Gnu                 ロウラヴ  03:32                     \n192  JPB600057201        浜崎あゆみ                    M  04:26                     \n193  JPWP02000424           美波               アメヲマツ、  04:54                     \n\n    ユーザー4 ユーザー5  \n0      ⭐⭐        \n1           ⭐⭐⭐  \n2       ⭐        \n3                \n4             ⭐  \n..    ...   ...  \n189    ⭐⭐        \n190     ⭐        \n191           ⭐  \n192         ⭐⭐⭐  \n193          ⭐⭐  \n\n[194 rows x 9 columns]",
      "text/html": "<div>\n<style scoped>\n    .dataframe tbody tr th:only-of-type {\n        vertical-align: middle;\n    }\n\n    .dataframe tbody tr th {\n        vertical-align: top;\n    }\n\n    .dataframe thead th {\n        text-align: right;\n    }\n</style>\n<table border=\"1\" class=\"dataframe\">\n  <thead>\n    <tr style=\"text-align: right;\">\n      <th></th>\n      <th>ID</th>\n      <th>アーティスト</th>\n      <th>曲名</th>\n      <th>時間</th>\n      <th>ユーザー1</th>\n      <th>ユーザー2</th>\n      <th>ユーザー3</th>\n      <th>ユーザー4</th>\n      <th>ユーザー5</th>\n    </tr>\n  </thead>\n  <tbody>\n    <tr>\n      <th>0</th>\n      <td>JPTF00809111</td>\n      <td>Mr.Children</td>\n      <td>花の匂い</td>\n      <td>05:10</td>\n      <td>⭐⭐⭐</td>\n      <td></td>\n      <td></td>\n      <td>⭐⭐</td>\n      <td></td>\n    </tr>\n    <tr>\n      <th>1</th>\n      <td>JPTF09205801</td>\n      <td>Mr.Children</td>\n      <td>虹の彼方へ</td>\n      <td>03:35</td>\n      <td>⭐</td>\n      <td></td>\n      <td>⭐</td>\n      <td></td>\n      <td>⭐⭐⭐</td>\n    </tr>\n    <tr>\n      <th>2</th>\n      <td>JPTF09809702</td>\n      <td>Mr.Children</td>\n      <td>Prism</td>\n      <td>04:40</td>\n      <td>⭐⭐⭐</td>\n      <td></td>\n      <td></td>\n      <td>⭐</td>\n      <td></td>\n    </tr>\n    <tr>\n      <th>3</th>\n      <td>JPU901803007</td>\n      <td>King Gnu</td>\n      <td>Prayer X (Acoustic)</td>\n      <td>01:29</td>\n      <td>⭐⭐</td>\n      <td>⭐⭐⭐</td>\n      <td></td>\n      <td></td>\n      <td></td>\n    </tr>\n    <tr>\n      <th>4</th>\n      <td>JPTF09501701</td>\n      <td>Mr.Children</td>\n      <td>【es】~Theme of es~</td>\n      <td>05:49</td>\n      <td>⭐</td>\n      <td>⭐</td>\n      <td>⭐</td>\n      <td></td>\n      <td>⭐</td>\n    </tr>\n    <tr>\n      <th>...</th>\n      <td>...</td>\n      <td>...</td>\n      <td>...</td>\n      <td>...</td>\n      <td>...</td>\n      <td>...</td>\n      <td>...</td>\n      <td>...</td>\n      <td>...</td>\n    </tr>\n    <tr>\n      <th>189</th>\n      <td>JPU901702278</td>\n      <td>King Gnu</td>\n      <td>サマーレイン・ダイバー</td>\n      <td>04:17</td>\n      <td></td>\n      <td></td>\n      <td></td>\n      <td>⭐⭐</td>\n      <td></td>\n    </tr>\n    <tr>\n      <th>190</th>\n      <td>JPU901702271</td>\n      <td>King Gnu</td>\n      <td>Tokyo Rendez-Vous</td>\n      <td>04:01</td>\n      <td></td>\n      <td></td>\n      <td></td>\n      <td>⭐</td>\n      <td></td>\n    </tr>\n    <tr>\n      <th>191</th>\n      <td>JPU901702276</td>\n      <td>King Gnu</td>\n      <td>ロウラヴ</td>\n      <td>03:32</td>\n      <td></td>\n      <td></td>\n      <td></td>\n      <td></td>\n      <td>⭐</td>\n    </tr>\n    <tr>\n      <th>192</th>\n      <td>JPB600057201</td>\n      <td>浜崎あゆみ</td>\n      <td>M</td>\n      <td>04:26</td>\n      <td></td>\n      <td></td>\n      <td></td>\n      <td></td>\n      <td>⭐⭐⭐</td>\n    </tr>\n    <tr>\n      <th>193</th>\n      <td>JPWP02000424</td>\n      <td>美波</td>\n      <td>アメヲマツ、</td>\n      <td>04:54</td>\n      <td></td>\n      <td></td>\n      <td></td>\n      <td></td>\n      <td>⭐⭐</td>\n    </tr>\n  </tbody>\n</table>\n<p>194 rows × 9 columns</p>\n</div>"
     },
     "metadata": {}
    }
   ],
   "source": [
    "evaluated_tracks_df = pd.json_normalize(map(\n",
    "    lambda t: dict(\n",
    "        {\"ID\": t.id, \"アーティスト\": t.artist, \"曲名\": t.name, \"時間\": millsec_to_str(t.duration_ms)},\n",
    "        **{ f\"ユーザー{i+1}\": \"⭐\" * v for i, v in enumerate(t.p) }\n",
    "    ),\n",
    "    qubo_solver.candidates,\n",
    "))\n",
    "display(evaluated_tracks_df)"
   ]
  },
  {
   "source": [
    "## Amplify Annealing Engine実行"
   ],
   "cell_type": "markdown",
   "metadata": {}
  },
  {
   "cell_type": "code",
   "execution_count": 8,
   "metadata": {},
   "outputs": [],
   "source": [
    "setlist = qubo_solver.solve(timeout=5000)"
   ]
  },
  {
   "cell_type": "code",
   "execution_count": 9,
   "metadata": {},
   "outputs": [
    {
     "output_type": "display_data",
     "data": {
      "text/plain": "         合計\n時間  0:30:03",
      "text/html": "<div>\n<style scoped>\n    .dataframe tbody tr th:only-of-type {\n        vertical-align: middle;\n    }\n\n    .dataframe tbody tr th {\n        vertical-align: top;\n    }\n\n    .dataframe thead th {\n        text-align: right;\n    }\n</style>\n<table border=\"1\" class=\"dataframe\">\n  <thead>\n    <tr style=\"text-align: right;\">\n      <th></th>\n      <th>合計</th>\n    </tr>\n  </thead>\n  <tbody>\n    <tr>\n      <th>時間</th>\n      <td>0:30:03</td>\n    </tr>\n  </tbody>\n</table>\n</div>"
     },
     "metadata": {}
    },
    {
     "output_type": "display_data",
     "data": {
      "text/plain": "   ユーザー1 ユーザー2 ユーザー3 ユーザー4 ユーザー5    合計    平均    分散\n好み  15.0  17.0  14.0  15.0  16.0  77.0  15.4  1.04",
      "text/html": "<div>\n<style scoped>\n    .dataframe tbody tr th:only-of-type {\n        vertical-align: middle;\n    }\n\n    .dataframe tbody tr th {\n        vertical-align: top;\n    }\n\n    .dataframe thead tr th {\n        text-align: left;\n    }\n</style>\n<table border=\"1\" class=\"dataframe\">\n  <thead>\n    <tr>\n      <th></th>\n      <th>ユーザー1</th>\n      <th>ユーザー2</th>\n      <th>ユーザー3</th>\n      <th>ユーザー4</th>\n      <th>ユーザー5</th>\n      <th>合計</th>\n      <th>平均</th>\n      <th>分散</th>\n    </tr>\n  </thead>\n  <tbody>\n    <tr>\n      <th>好み</th>\n      <td>15.0</td>\n      <td>17.0</td>\n      <td>14.0</td>\n      <td>15.0</td>\n      <td>16.0</td>\n      <td>77.0</td>\n      <td>15.4</td>\n      <td>1.04</td>\n    </tr>\n  </tbody>\n</table>\n</div>"
     },
     "metadata": {}
    },
    {
     "output_type": "display_data",
     "data": {
      "text/plain": "<IPython.core.display.HTML object>",
      "text/html": "<table border=\"1\" class=\"dataframe\">\n  <thead>\n    <tr style=\"text-align: right;\">\n      <th></th>\n      <th>image</th>\n      <th>アーティスト</th>\n      <th>曲名</th>\n      <th>時間</th>\n      <th>ユーザー1</th>\n      <th>ユーザー2</th>\n      <th>ユーザー3</th>\n      <th>ユーザー4</th>\n      <th>ユーザー5</th>\n    </tr>\n  </thead>\n  <tbody>\n    <tr>\n      <th>0</th>\n      <td><img src=\"https://i.scdn.co/image/ab67616d000048519897936987720656a44ace99\" /></td>\n      <td>オレンジスパイニクラブ</td>\n      <td>キンモクセイ</td>\n      <td>03:51</td>\n      <td>⭐⭐⭐</td>\n      <td>⭐⭐</td>\n      <td>⭐</td>\n      <td>⭐⭐⭐</td>\n      <td>⭐⭐</td>\n    </tr>\n    <tr>\n      <th>1</th>\n      <td><img src=\"https://i.scdn.co/image/ab67616d0000485186a86bc3753b237672859788\" /></td>\n      <td>平井 大</td>\n      <td>Stand by me, Stand by you.</td>\n      <td>03:13</td>\n      <td>⭐⭐⭐</td>\n      <td>⭐⭐⭐</td>\n      <td></td>\n      <td>⭐⭐⭐</td>\n      <td></td>\n    </tr>\n    <tr>\n      <th>2</th>\n      <td><img src=\"https://i.scdn.co/image/ab67616d000048510ee03c32a641e432881c0b00\" /></td>\n      <td>LiSA</td>\n      <td>ROCK-mode</td>\n      <td>04:16</td>\n      <td>⭐</td>\n      <td>⭐⭐⭐</td>\n      <td>⭐⭐</td>\n      <td></td>\n      <td>⭐⭐⭐</td>\n    </tr>\n    <tr>\n      <th>3</th>\n      <td><img src=\"https://i.scdn.co/image/ab67616d000048515dd0ff65e7e154393698d97e\" /></td>\n      <td>Rin音, RhymeTube</td>\n      <td>snow jam</td>\n      <td>03:05</td>\n      <td>⭐</td>\n      <td>⭐⭐</td>\n      <td>⭐⭐</td>\n      <td>⭐</td>\n      <td>⭐</td>\n    </tr>\n    <tr>\n      <th>4</th>\n      <td><img src=\"https://i.scdn.co/image/ab67616d0000485128b535c92629e3c8d20ec242\" /></td>\n      <td>ヨルシカ</td>\n      <td>ただ君に晴れ</td>\n      <td>03:18</td>\n      <td>⭐⭐⭐</td>\n      <td>⭐</td>\n      <td>⭐⭐⭐</td>\n      <td>⭐⭐</td>\n      <td>⭐</td>\n    </tr>\n    <tr>\n      <th>5</th>\n      <td><img src=\"https://i.scdn.co/image/ab67616d00004851d43030861befc29be942ad6b\" /></td>\n      <td>milet</td>\n      <td>inside you</td>\n      <td>03:41</td>\n      <td>⭐⭐</td>\n      <td>⭐⭐⭐</td>\n      <td>⭐⭐⭐</td>\n      <td></td>\n      <td>⭐⭐⭐</td>\n    </tr>\n    <tr>\n      <th>6</th>\n      <td><img src=\"https://i.scdn.co/image/ab67616d00004851da9c76ed020a7894443a3f97\" /></td>\n      <td>BTS</td>\n      <td>Stay Gold</td>\n      <td>04:03</td>\n      <td></td>\n      <td></td>\n      <td>⭐⭐⭐</td>\n      <td>⭐⭐⭐</td>\n      <td>⭐⭐⭐</td>\n    </tr>\n    <tr>\n      <th>7</th>\n      <td><img src=\"https://i.scdn.co/image/ab67616d00004851fe52879ebfec0050a2aa89ff\" /></td>\n      <td>NiziU</td>\n      <td>Make you happy</td>\n      <td>03:04</td>\n      <td></td>\n      <td></td>\n      <td></td>\n      <td>⭐⭐⭐</td>\n      <td>⭐⭐⭐</td>\n    </tr>\n  </tbody>\n</table>"
     },
     "metadata": {}
    }
   ],
   "source": [
    "display_setlist(setlist)"
   ]
  },
  {
   "cell_type": "code",
   "execution_count": null,
   "metadata": {},
   "outputs": [],
   "source": []
  }
 ]
}